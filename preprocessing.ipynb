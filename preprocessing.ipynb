{
 "cells": [
  {
   "cell_type": "code",
   "execution_count": 2,
   "id": "35b21b7e-43f5-4482-814d-3333489bd388",
   "metadata": {},
   "outputs": [],
   "source": [
    "# Import Libraries\n",
    "import pandas as pd\n",
    "import numpy as np\n",
    "import matplotlib.pyplot as plt\n",
    "import seaborn as sns"
   ]
  },
  {
   "cell_type": "code",
   "execution_count": 3,
   "id": "333d6307-2cb4-42b3-b4a9-de64d22df5e1",
   "metadata": {},
   "outputs": [],
   "source": [
    "# Ignore certain warnings\n",
    "import warnings\n",
    "warnings.filterwarnings(\"ignore\", category=pd.errors.SettingWithCopyWarning)"
   ]
  },
  {
   "cell_type": "code",
   "execution_count": 4,
   "id": "1ee1e7d0-7fcd-4691-98b4-39021a31f889",
   "metadata": {},
   "outputs": [],
   "source": [
    "# Upload all NYC benchmarking csvs\n",
    "df_2010 = pd.read_csv(\"Energy_and_Water_Data_Disclosure_for_Local_Law_84_2011__Data_for_Calendar_Year_2010__20250210.csv\", low_memory=False)\n",
    "df_2011 = pd.read_csv(\"Energy_and_Water_Data_Disclosure_for_Local_Law_84_2012__Data_for_Calendar_Year_2011__20250210.csv\", low_memory=False)\n",
    "df_2012 = pd.read_csv(\"Energy_and_Water_Data_Disclosure_for_Local_Law_84_2013__Data_for_Calendar_Year_2012__20250203.csv\", low_memory=False)\n",
    "df_2013 = pd.read_csv(\"Energy_and_Water_Data_Disclosure_for_Local_Law_84_2014__Data_for_Calendar_Year_2013__20250210.csv\", low_memory=False)\n",
    "df_2014 = pd.read_csv(\"Energy_and_Water_Data_Disclosure_for_Local_Law_84_2015__Data_for_Calendar_Year_2014__20250210.csv\", low_memory=False)\n",
    "df_2015 = pd.read_csv(\"Energy_and_Water_Data_Disclosure_for_Local_Law_84_2016__Data_for_Calendar_Year_2015__20250203.csv\", low_memory=False)\n",
    "df_2016 = pd.read_csv(\"Energy_and_Water_Data_Disclosure_for_Local_Law_84_2017__Data_for_Calendar_Year_2016__20250210.csv\", low_memory=False)\n",
    "df_2017 = pd.read_csv(\"Energy_and_Water_Data_Disclosure_for_Local_Law_84_2018__Data_for_Calendar_Year_2017__20250210.csv\", low_memory=False)\n",
    "df_2018 = pd.read_csv(\"Energy_and_Water_Data_Disclosure_for_Local_Law_84_2019__Data_for_Calendar_Year_2018__20250210.csv\", low_memory=False)\n",
    "df_2019 = pd.read_csv(\"Energy_and_Water_Data_Disclosure_for_Local_Law_84_2020__Data_for_Calendar_Year_2019__20250210.csv\", low_memory=False)\n",
    "df_2020 = pd.read_csv(\"Energy_and_Water_Data_Disclosure_for_Local_Law_84_2021__Data_for_Calendar_Year_2020__20250210.csv\", low_memory=False)\n",
    "df_2021 = pd.read_csv(\"Energy_and_Water_Data_Disclosure_for_Local_Law_84_2022__Data_for_Calendar_Year_2021__20250210.csv\", low_memory=False)\n",
    "df_2022 = pd.read_csv(\"NYC_Building_Energy_and_Water_Data_Disclosure_for_Local_Law_84__2022-Present__20250128.csv\", low_memory=False)"
   ]
  },
  {
   "cell_type": "code",
   "execution_count": 5,
   "id": "59b55cb5-7aca-4738-809c-79a9969fbc56",
   "metadata": {},
   "outputs": [],
   "source": [
    "# Read key matching csv\n",
    "df_column_keys = pd.read_csv(\"keys_initial_nyc.csv\")"
   ]
  },
  {
   "cell_type": "code",
   "execution_count": 6,
   "id": "e496eb22-0494-4a61-a257-4e086f5adac8",
   "metadata": {},
   "outputs": [],
   "source": [
    "# Limit rows in dfs to be ones specified in keys csv\n",
    "for year in range(2014, 2023):\n",
    "    year_str = str(year)\n",
    "    \n",
    "    # Retrieve the DataFrame dynamically\n",
    "    df = globals()[f'df_{year}']\n",
    "    \n",
    "    expected_columns = df_column_keys[year_str]\n",
    "    \n",
    "    missing_columns = [col for col in expected_columns if col not in df.columns]\n",
    "    \n",
    "    # Add missing columns with NaN values\n",
    "    for col in missing_columns:\n",
    "        df[col] = np.nan  \n",
    "\n",
    "    # Create the simplified DataFrame with the correct columns\n",
    "    globals()[f'df_{year}_simp'] = df[expected_columns]\n"
   ]
  },
  {
   "cell_type": "code",
   "execution_count": 7,
   "id": "b9a94e2d-78d9-4f0f-995e-7e0794618f8f",
   "metadata": {},
   "outputs": [],
   "source": [
    "# Rename columns to be standardized based on spreadsheet key\n",
    "for year in range(2014,2023):\n",
    "    globals()[f'df_{year}_simp'].columns = df_column_keys['2022']"
   ]
  },
  {
   "cell_type": "code",
   "execution_count": 8,
   "id": "23af1a40-0d9a-4a74-8c65-1557d52d9262",
   "metadata": {},
   "outputs": [],
   "source": [
    "# Concat into one dataframe\n",
    "dfs_to_concat = [globals()[f'df_{year}_simp'] for year in range(2014, 2023)]\n",
    "\n",
    "df_combined_raw = pd.concat(dfs_to_concat, ignore_index=True)"
   ]
  },
  {
   "cell_type": "code",
   "execution_count": 9,
   "id": "619523e0-00a7-4267-bf2f-0d0a2d00d2e2",
   "metadata": {},
   "outputs": [
    {
     "name": "stdout",
     "output_type": "stream",
     "text": [
      "256662\n",
      "52978\n"
     ]
    }
   ],
   "source": [
    "# Get statistics on raw dataframe\n",
    "print(len(df_combined_raw))\n",
    "print(df_combined_raw['Property ID'].nunique())"
   ]
  },
  {
   "cell_type": "code",
   "execution_count": 10,
   "id": "1c787966-8810-4b46-9f2e-7fb065470c7e",
   "metadata": {},
   "outputs": [],
   "source": [
    "# Drop rows without WN Source EUI data\n",
    "df_combined_raw['Weather Normalized Source EUI (kBtu/ft²)'] = df_combined_raw['Weather Normalized Source EUI (kBtu/ft²)'].replace('Not Available',np.nan).astype(float)\n",
    "df_combined = df_combined_raw[df_combined_raw['Weather Normalized Source EUI (kBtu/ft²)'].notna()]"
   ]
  },
  {
   "cell_type": "code",
   "execution_count": 11,
   "id": "cd62e127-8cf7-4be7-bbab-b727c8ca55d3",
   "metadata": {},
   "outputs": [
    {
     "name": "stderr",
     "output_type": "stream",
     "text": [
      "C:\\Users\\etien\\anaconda3\\Lib\\site-packages\\pandas\\core\\arraylike.py:399: RuntimeWarning: divide by zero encountered in log\n",
      "  result = getattr(ufunc, method)(*inputs, **kwargs)\n",
      "C:\\Users\\etien\\anaconda3\\Lib\\site-packages\\pandas\\core\\arraylike.py:399: RuntimeWarning: invalid value encountered in log\n",
      "  result = getattr(ufunc, method)(*inputs, **kwargs)\n"
     ]
    }
   ],
   "source": [
    "# Apply log to WN Source EUI\n",
    "df_combined['ln_source_eui'] = np.log(df_combined['Weather Normalized Source EUI (kBtu/ft²)'])"
   ]
  },
  {
   "cell_type": "code",
   "execution_count": 12,
   "id": "c93f751b-9921-4e5e-9fe1-c129804ccc8c",
   "metadata": {},
   "outputs": [],
   "source": [
    "# Make year column\n",
    "df_combined['year'] = df_combined['Year Ending'].str[-4:].astype(int)"
   ]
  },
  {
   "cell_type": "code",
   "execution_count": 13,
   "id": "e1fceb59-3fad-497f-8f17-e9f88564d806",
   "metadata": {},
   "outputs": [],
   "source": [
    "# Clean columns\n",
    "df_combined['ENERGY STAR Score'] = df_combined['ENERGY STAR Score'].replace('Not Available',np.nan).astype(float)"
   ]
  },
  {
   "cell_type": "code",
   "execution_count": 14,
   "id": "043c335c-eea7-44b8-aaf7-e2ed1b3233bd",
   "metadata": {},
   "outputs": [],
   "source": [
    "# Drop duplicate entries in a year\n",
    "df_combined = df_combined.sort_values(by='Report Submission Date',ascending=False).drop_duplicates(subset=['Property ID','year'])"
   ]
  },
  {
   "cell_type": "code",
   "execution_count": 15,
   "id": "32286767-b9ea-4212-a278-1b12ce6ef7d2",
   "metadata": {},
   "outputs": [],
   "source": [
    "#standardize french property names to english\n",
    "french_to_english = {\n",
    "    'Résidence/dortoir': 'Residence Hall/Dormitory',\n",
    "    'Collège/Université': 'College/University',\n",
    "    'Bureau': 'Office',\n",
    "    'Immeuble à logements multiples': 'Multifamily Housing',\n",
    "    'Autre - Éducation': 'Other - Education',\n",
    "    'Lieu de culte': 'Worship Facility',\n",
    "    'Autre': 'Other',\n",
    "    'Hôtel': 'Hotel',\n",
    "    'Patinoire/piste de curling': 'Ice/Curling Rink',\n",
    "    'Autre - Divertissement/Rassemblement public': 'Other - Entertainment/Public Assembly',\n",
    "    'Usine de fabrication/industrie': 'Manufacturing/Industrial Plant',\n",
    "    'Résidence pour personnes âgées': 'Senior Care Community',\n",
    "    'Propriété à usage mixte': 'Mixed Use Property',\n",
    "    'Entrepôt non réfrigéré': 'Non-Refrigerated Warehouse'\n",
    "}\n",
    "\n",
    "# Apply the mapping\n",
    "df_combined['Primary Property Type - Self Selected'] = df_combined['Primary Property Type - Self Selected'].replace(french_to_english)"
   ]
  },
  {
   "cell_type": "code",
   "execution_count": 16,
   "id": "cda6efe9-d522-4dad-81f5-d61be4a0fdd1",
   "metadata": {},
   "outputs": [],
   "source": [
    "# Remove the 1% and 99% outliers\n",
    "\n",
    "lower_eui_value = df_combined['ln_source_eui'].quantile(.01)\n",
    "upper_eui_value = df_combined['ln_source_eui'].quantile(.99)\n",
    "\n",
    "df_combined['ln_source_eui'] = df_combined['ln_source_eui'].where(\n",
    "    (df_combined['ln_source_eui'] > lower_eui_value) & \n",
    "    (df_combined['ln_source_eui'] < upper_eui_value)\n",
    ")"
   ]
  },
  {
   "cell_type": "code",
   "execution_count": 17,
   "id": "68174ffb-42e3-4bc3-afce-a36ca85be46a",
   "metadata": {},
   "outputs": [],
   "source": [
    "# Remove entries that are 3 standard deviations outside the group mean (likely meter errors)\n",
    "\n",
    "# Find mean and std for every Property ID\n",
    "df_lnsource_means = df_combined.groupby('Property ID')['ln_source_eui'].agg(['mean','std'])\n",
    "df_combined = df_combined.merge(df_lnsource_means, on='Property ID')\n",
    "\n",
    "# Keep only entries within 3 standard deviations\n",
    "df_combined = df_combined[\n",
    "    (df_combined['ln_source_eui'] >= df_combined['mean'] - 3 * df_combined['std']) &\n",
    "    (df_combined['ln_source_eui'] <= df_combined['mean'] + 3 * df_combined['std'])\n",
    "]"
   ]
  },
  {
   "cell_type": "code",
   "execution_count": 18,
   "id": "21fed7c5-cb14-4965-84af-8163ec28a4d5",
   "metadata": {},
   "outputs": [
    {
     "data": {
      "text/plain": [
       "<Axes: xlabel='ln_source_eui', ylabel='Count'>"
      ]
     },
     "execution_count": 18,
     "metadata": {},
     "output_type": "execute_result"
    },
    {
     "data": {
      "image/png": "[encoded data removed]",
      "text/plain": [
       "<Figure size 640x480 with 1 Axes>"
      ]
     },
     "metadata": {},
     "output_type": "display_data"
    }
   ],
   "source": [
    "sns.histplot(df_combined['ln_source_eui'])"
   ]
  },
  {
   "cell_type": "code",
   "execution_count": 21,
   "id": "4d6a7b08-39cd-4765-9d7d-b6f7446ce619",
   "metadata": {},
   "outputs": [
    {
     "data": {
      "image/png": "[encoded data removed]",
      "text/plain": [
       "<Figure size 1000x500 with 1 Axes>"
      ]
     },
     "metadata": {},
     "output_type": "display_data"
    }
   ],
   "source": [
    "# Compute average EUI per year\n",
    "df_avg_eui = df_combined.groupby('year')['ln_source_eui'].mean().reset_index()\n",
    "\n",
    "# Plot\n",
    "plt.figure(figsize=(10, 5))\n",
    "sns.lineplot(data=df_avg_eui, x='year', y='ln_source_eui', marker='o')\n",
    "plt.xlabel(\"Year\")\n",
    "plt.ylabel(\"Average ln(Source EUI)\")\n",
    "plt.title(\"Average ln(Source EUI) per Year\")\n",
    "plt.grid(True)\n",
    "plt.show()"
   ]
  },
  {
   "cell_type": "code",
   "execution_count": 22,
   "id": "79f69bcb-2133-48ee-893f-bc17cf35d638",
   "metadata": {},
   "outputs": [],
   "source": [
    "# Convert numerical string columns to floats\n",
    "df_combined['Property GFA - Self-Reported (ft²)'] = df_combined['Property GFA - Self-Reported (ft²)'].astype(float)"
   ]
  },
  {
   "cell_type": "code",
   "execution_count": 1,
   "id": "093e55c6-c780-4f38-9b69-cd6b61e48c79",
   "metadata": {},
   "outputs": [],
   "source": [
    "# for i in df_combined.columns:\n",
    "#     print(f\"'{i}',\")"
   ]
  },
  {
   "cell_type": "code",
   "execution_count": 24,
   "id": "36fbb22b-842b-41ae-9897-9254ca81f1ad",
   "metadata": {},
   "outputs": [
    {
     "name": "stderr",
     "output_type": "stream",
     "text": [
      "C:\\Users\\etien\\AppData\\Local\\Temp\\ipykernel_21572\\2905558720.py:30: FutureWarning: Downcasting behavior in `replace` is deprecated and will be removed in a future version. To retain the old behavior, explicitly call `result.infer_objects(copy=False)`. To opt-in to the future behavior, set `pd.set_option('future.no_silent_downcasting', True)`\n",
      "  df_combined[other_fuel_cols] = df_combined[other_fuel_cols].replace(['Not Available','Insufficient access'],np.nan).astype(float).fillna(0)\n"
     ]
    }
   ],
   "source": [
    "# List of energy columns to be used\n",
    "energy_cols = [\n",
    "    'Natural Gas Use (kBtu)',\n",
    "    'District Steam Use (kBtu)',\n",
    "    'District Hot Water Use (kBtu)',\n",
    "    'District Chilled Water Use (kBtu)'\n",
    "]\n",
    "\n",
    "# List of columns for 'All Other Fuel Use (kBtu)'\n",
    "other_fuel_cols = [\n",
    "    'Propane Use (kBtu)',\n",
    "    'Kerosene Use (kBtu)',\n",
    "    'Fuel Oil #1 Use (kBtu)',\n",
    "    'Fuel Oil #2 Use (kBtu)',\n",
    "    'Fuel Oil #4 Use (kBtu)',\n",
    "    'Fuel Oil #5 & 6 Use (kBtu)',\n",
    "    'Diesel #2 Use (kBtu)'\n",
    "]\n",
    "\n",
    "# List of columns for 'Electricity Use (kBtu)'\n",
    "electricity_cols = [\n",
    "    'Electricity Use - Grid Purchase (kBtu)',\n",
    "    'Electricity Use - Grid Purchase and Generated from Onsite Renewable Systems (kBtu)',\n",
    "    'Electricity Use – Generated from Onsite Renewable Systems and Used Onsite (kWh)',\n",
    "    'Electricity Use – Generated from Onsite Renewable Systems (kWh)'\n",
    "]\n",
    "\n",
    "# Convert all relevant columns to float and fill NaNs with 0\n",
    "df_combined[energy_cols] = df_combined[energy_cols].replace(['Not Available','Insufficient access'],np.nan).astype(float).fillna(0)\n",
    "df_combined[other_fuel_cols] = df_combined[other_fuel_cols].replace(['Not Available','Insufficient access'],np.nan).astype(float).fillna(0)\n",
    "df_combined[electricity_cols] = df_combined[electricity_cols].replace(['Not Available','Insufficient access'],np.nan).astype(float).fillna(0)\n",
    "\n",
    "# Compute additional energy categories\n",
    "df_combined['All Other Fuel Use (kBtu)'] = df_combined[other_fuel_cols].sum(axis=1)\n",
    "df_combined['Electricity Use (kBtu)'] = df_combined[electricity_cols].sum(axis=1)\n",
    "\n",
    "# Update the energy_cols list to include these new columns\n",
    "energy_cols.extend(['All Other Fuel Use (kBtu)', 'Electricity Use (kBtu)'])\n",
    "\n",
    "# Compute total energy use\n",
    "df_combined['total_energy_use'] = df_combined[energy_cols].sum(axis=1)\n",
    "\n",
    "# Compute energy ratios and clean columns\n",
    "for col in energy_cols:\n",
    "    df_combined[f'{col}_ratio'] = df_combined[col] / df_combined['total_energy_use']\n",
    "\n",
    "    df_combined[f'{col}_ratio'] = df_combined[f'{col}_ratio'].clip(lower=0, upper=1)"
   ]
  },
  {
   "cell_type": "code",
   "execution_count": 25,
   "id": "64e3292a-b272-4c4d-a28b-6e2840e03cc3",
   "metadata": {},
   "outputs": [],
   "source": [
    "# Find number of years a building reported data\n",
    "years_reported = df_combined.groupby('Property ID')['year'].count()\n",
    "\n",
    "df_combined['years_reported'] = df_combined['Property ID'].map(years_reported)"
   ]
  },
  {
   "cell_type": "code",
   "execution_count": 26,
   "id": "99bd10cc-4db8-4a2d-9b1c-d92859164c29",
   "metadata": {},
   "outputs": [],
   "source": [
    "#Add features from PLUTO database\n",
    "df_pluto = pd.read_csv(\"pluto_24v4_1.csv\", low_memory=False)\n",
    "\n",
    "#use first BBL from set\n",
    "df_combined['bbl'] = pd.to_numeric(\n",
    "    df_combined['NYC Borough, Block and Lot (BBL)'].str.replace('-', '').str[:10],\n",
    "    errors='coerce'\n",
    ")\n",
    "\n",
    "# Set 'bbl' as index and keep only desired features\n",
    "df_pluto_floors = df_pluto.set_index('bbl')[['numfloors', 'landuse', 'bldgarea', 'assessland', 'assesstot', 'builtfar','yearalter1','yearalter2','unitsres','unitstotal','lotfront','lotdepth','bldgfront','bldgdepth']]\n",
    "\n",
    "# Map 'bbl' to features to add to df_combined\n",
    "df_combined = df_combined.join(df_pluto_floors, on='bbl')\n",
    "\n",
    "# Merge yearalter tables to be the most recent column\n",
    "df_combined['yearalter'] = df_combined['yearalter2'].fillna(df_combined['yearalter1'])\n"
   ]
  },
  {
   "cell_type": "code",
   "execution_count": 27,
   "id": "7eeeb38b-581e-4d90-bac3-20714c6db9b0",
   "metadata": {},
   "outputs": [],
   "source": [
    "# Calculate square footage of building\n",
    "\n",
    "df_combined['sqft'] = df_combined['Property GFA - Calculated (Buildings and Parking) (ft²)'].replace('Not Available',np.nan).fillna(df_combined['Property GFA - Self-Reported (ft²)']).astype(float)"
   ]
  },
  {
   "cell_type": "code",
   "execution_count": 63,
   "id": "be48ff14-640f-4eac-953f-7b108e84b802",
   "metadata": {},
   "outputs": [],
   "source": [
    "# Find age of buildings\n",
    "df_combined['Year Built'] = df_combined['Year Built'].replace('Not Available',np.nan).astype(float)\n",
    "\n",
    "# Since only 7 entries without years built, drop them\n",
    "df_combined = df_combined[df_combined['Year Built'].notna()]\n",
    "\n",
    "# Calculate building age\n",
    "df_combined['age'] = df_combined['year'] - df_combined['Year Built']\n",
    "\n",
    "# Clean values\n",
    "df_combined['age'] = df_combined['age'].clip(lower=0, upper=200)"
   ]
  },
  {
   "cell_type": "code",
   "execution_count": 65,
   "id": "4cd3cd04-5ec2-4685-a5b0-f39cd30403a6",
   "metadata": {},
   "outputs": [],
   "source": [
    "# Create building ages bins\n",
    "bins = list(range(0, 101, 20)) + [float('inf')]\n",
    "\n",
    "labels = ['0-19', '20-39', '40-59', '60-79', '80-99', '100+']\n",
    "\n",
    "df_combined['age_bin'] = pd.cut(df_combined['age'], bins=bins, labels=labels, right=False)"
   ]
  },
  {
   "cell_type": "code",
   "execution_count": 67,
   "id": "aa0db741-2f61-4f84-abb0-3dab794bee0a",
   "metadata": {},
   "outputs": [],
   "source": [
    "# Create building sqft bins\n",
    "bins = [0, 50000, 100000, 150000, 200000, 300000, float('inf')]\n",
    "\n",
    "labels = ['0-49k', '50k-99k', '100k-149k', '150k-199k', '200k-299k', '300k+']\n",
    "\n",
    "df_combined['sqft_bin'] = pd.cut(df_combined['sqft'], bins=bins, labels=labels, right=False)\n"
   ]
  },
  {
   "cell_type": "code",
   "execution_count": 69,
   "id": "b0dac140-3382-4e7f-b6df-a52ca1cbb08c",
   "metadata": {},
   "outputs": [],
   "source": [
    "df_combined['assesstot_persqft'] = df_combined['assesstot'] / df_combined['sqft']"
   ]
  },
  {
   "cell_type": "code",
   "execution_count": 70,
   "id": "44d633fb-a146-4a1d-9ef2-7b92c7c3934a",
   "metadata": {},
   "outputs": [],
   "source": [
    "# Export csv\n",
    "df_combined.to_csv('nyc_cleaned.csv')"
   ]
  },
  {
   "cell_type": "code",
   "execution_count": null,
   "id": "f8b741c9-2de1-4733-9c4c-0ea6a4de29a4",
   "metadata": {},
   "outputs": [],
   "source": []
  },
  {
   "cell_type": "code",
   "execution_count": null,
   "id": "e8b02ccd-eb04-45e2-9292-0a8b444024b8",
   "metadata": {},
   "outputs": [],
   "source": []
  }
 ],
 "metadata": {
  "kernelspec": {
   "display_name": "Python [conda env:base] *",
   "language": "python",
   "name": "conda-base-py"
  },
  "language_info": {
   "codemirror_mode": {
    "name": "ipython",
    "version": 3
   },
   "file_extension": ".py",
   "mimetype": "text/x-python",
   "name": "python",
   "nbconvert_exporter": "python",
   "pygments_lexer": "ipython3",
   "version": "3.12.7"
  }
 },
 "nbformat": 4,
 "nbformat_minor": 5
}
